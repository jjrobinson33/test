{
 "cells": [
  {
   "cell_type": "markdown",
   "metadata": {
    "deletable": false,
    "editable": false
   },
   "source": [
    "<center> <h1> Euler's Number</h1> </center>\n",
    " \n"
   ]
  },
  {
   "cell_type": "markdown",
   "metadata": {
    "deletable": false,
    "editable": false
   },
   "source": [
    "## Introduction\n",
    "\n",
    "Because the exponent function $e^x$ is the only function that is its own derivative, and whose value at $x = 0$ is 1, it plays an important role in mathematics. Every scientific calculator has a button to compute this. If you put $x = 1$ into your own calculator, you will get its best approximation to $e$. With a computer, we can do much better."
   ]
  },
  {
   "cell_type": "code",
   "execution_count": 9,
   "metadata": {},
   "outputs": [
    {
     "name": "stdout",
     "output_type": "stream",
     "text": [
      "2.718281828459045235360287471352662497757\n"
     ]
    }
   ],
   "source": [
    "import sympy as smp\n",
    "\n",
    "# In Python, the exponential function is exp(x); we start by evaluating it to 40 places using evalf(40)\n",
    "# Try changing this to 100 or even higher numbers.\n",
    "\n",
    "print(smp.exp(1).evalf(40))"
   ]
  },
  {
   "cell_type": "markdown",
   "metadata": {
    "deletable": false,
    "editable": false
   },
   "source": [
    "But how does a computer calculate this value? It doesn't have it stored anywhere, so it just looks it up. Instead, a computer has a method for computing better and better approximations to $e$, and it uses that method until it gets the desired accuracy.\n",
    "\n",
    "Surprisingly, the best-known formula for $e$ involves the *factorial* function:\n",
    "$$n! = 1 \\cdot 2 \\cdot 3 \\cdot \\ldots \\cdot n,$$\n",
    "where we also define $0! = 1$. Some values are computed by executing the following code."
   ]
  },
  {
   "cell_type": "code",
   "execution_count": 14,
   "metadata": {},
   "outputs": [
    {
     "name": "stdout",
     "output_type": "stream",
     "text": [
      "The value of 0! is 1\n",
      "The value of 1! is 1\n",
      "The value of 2! is 2\n",
      "The value of 3! is 6\n",
      "The value of 4! is 24\n",
      "The value of 5! is 120\n",
      "The value of 6! is 720\n",
      "The value of 7! is 5040\n",
      "The value of 8! is 40320\n",
      "The value of 9! is 362880\n"
     ]
    }
   ],
   "source": [
    "for n in range(10):\n",
    "    print(f\"The value of {n}! is {smp.factorial(n)}\")"
   ]
  },
  {
   "cell_type": "markdown",
   "metadata": {
    "deletable": false,
    "editable": false
   },
   "source": [
    "As you can see, the values of the factorial function increase very rapidly. Now we define the value of $e$:\n",
    "$$\\begin{align} e &= \\frac{1}{0!} + \\frac{1}{1!} + \\frac{1}{2!} + \\frac{1}{3!} + \\ldots\\\\\n",
    "&= \\sum_{n = 0}^\\infty \\frac{1}{n!} \\end{align}\n",
    "$$\n",
    "For $n$ large, the term $1/n!$ is very small, so if we stop computing the sum after a reasonable number of terms, we will still have a good approximation. Look below, where we compute the sum of the first $N$ terms for varying values of $N$."
   ]
  },
  {
   "cell_type": "code",
   "execution_count": 33,
   "metadata": {},
   "outputs": [
    {
     "name": "stdout",
     "output_type": "stream",
     "text": [
      "The approximating sum from stopping when n gets to 0 is 1.000000000000000000000000000000000000000\n",
      "The approximating sum from stopping when n gets to 10 is 2.718281801146384479717813051146384479718\n",
      "The approximating sum from stopping when n gets to 20 is 2.718281828459045235339784490666415886146\n",
      "The approximating sum from stopping when n gets to 30 is 2.718281828459045235360287471352662372226\n",
      "The approximating sum from stopping when n gets to 40 is 2.718281828459045235360287471352662497757\n",
      "The approximating sum from stopping when n gets to 50 is 2.718281828459045235360287471352662497757\n",
      "The actual value of e to 40 places accuracy is 2.718281828459045235360287471352662497757\n"
     ]
    }
   ],
   "source": [
    "sumSoFar = 0\n",
    "for n in range(51):\n",
    "    sumSoFar = sumSoFar + 1/smp.factorial(n)\n",
    "    if n % 10 == 0:\n",
    "        print(f\"The approximating sum from stopping when n gets to {n} is {sumSoFar.evalf(40)}\")\n",
    "\n",
    "print(f\"The actual value of e to 40 places accuracy is {smp.exp(1).evalf(40)}\")"
   ]
  },
  {
   "cell_type": "markdown",
   "metadata": {},
   "source": [
    "As you can see, already by $n = 40$ the terms we are adding are negligible, and we have computed $e$ to 40 places accuracy."
   ]
  }
 ],
 "metadata": {
  "kernelspec": {
   "display_name": "Python 3",
   "language": "python",
   "name": "python3"
  },
  "language_info": {
   "codemirror_mode": {
    "name": "ipython",
    "version": 3
   },
   "file_extension": ".py",
   "mimetype": "text/x-python",
   "name": "python",
   "nbconvert_exporter": "python",
   "pygments_lexer": "ipython3",
   "version": "3.10.12"
  }
 },
 "nbformat": 4,
 "nbformat_minor": 2
}
